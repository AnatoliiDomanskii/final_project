{
 "cells": [
  {
   "cell_type": "code",
   "execution_count": 1,
   "id": "7966140c-f8cb-4962-939e-8a922f519143",
   "metadata": {},
   "outputs": [],
   "source": [
    "from pyspark.sql import SparkSession"
   ]
  },
  {
   "cell_type": "code",
   "execution_count": 4,
   "id": "02620f8e-7bdb-492f-96a9-61b16690ea58",
   "metadata": {},
   "outputs": [
    {
     "name": "stderr",
     "output_type": "stream",
     "text": [
      "Setting default log level to \"WARN\".\n",
      "To adjust logging level use sc.setLogLevel(newLevel). For SparkR, use setLogLevel(newLevel).\n"
     ]
    },
    {
     "name": "stdout",
     "output_type": "stream",
     "text": [
      "22/10/07 19:35:24 WARN NativeCodeLoader: Unable to load native-hadoop library for your platform... using builtin-java classes where applicable\n"
     ]
    }
   ],
   "source": [
    "spark = SparkSession.builder.getOrCreate()"
   ]
  },
  {
   "cell_type": "code",
   "execution_count": 11,
   "id": "9675686d-a01f-41ab-a393-e3204c1a1f33",
   "metadata": {},
   "outputs": [],
   "source": [
    "df = spark.read.csv(\"/Users/hunting/projects/r_d/DE2022/lect_06/file_formats/data/1_sales.csv\", header=True)"
   ]
  },
  {
   "cell_type": "code",
   "execution_count": 12,
   "id": "a817eb24-099f-4160-bf76-ebc769b1b99a",
   "metadata": {},
   "outputs": [
    {
     "name": "stdout",
     "output_type": "stream",
     "text": [
      "+-----------------+-------------+--------------+-----+\n",
      "|           client|purchase_date|       product|price|\n",
      "+-----------------+-------------+--------------+-----+\n",
      "|     Norma Fisher|   2022-08-09|Vacuum cleaner|  121|\n",
      "|     Norma Fisher|   2022-08-13|Microwave oven|  348|\n",
      "|     Norma Fisher|   2022-08-12|         Phone| 1126|\n",
      "|   Jorge Sullivan|   2022-08-10|Microwave oven|  171|\n",
      "|  Elizabeth Woods|   2022-08-26|            TV| 1766|\n",
      "|     Susan Wagner|   2022-08-26|Microwave oven|  461|\n",
      "|     Susan Wagner|   2022-08-05|Microwave oven|  561|\n",
      "| Peter Montgomery|   2022-08-03|            TV| 1994|\n",
      "| Peter Montgomery|   2022-08-16|coffee machine| 2804|\n",
      "|Stephanie Collins|   2022-08-20|Vacuum cleaner|  403|\n",
      "|Stephanie Collins|   2022-08-18|coffee machine| 1775|\n",
      "| Stephanie Sutton|   2022-08-09|Vacuum cleaner|  613|\n",
      "| Stephanie Sutton|   2022-08-30|            TV| 2148|\n",
      "| Stephanie Sutton|   2022-08-01|Microwave oven|  568|\n",
      "|       Susan Levy|   2022-08-20|coffee machine|  109|\n",
      "|       Susan Levy|   2022-08-08|Vacuum cleaner|  421|\n",
      "|       Susan Levy|   2022-08-23|coffee machine| 2764|\n",
      "|   Kimberly Smith|   2022-08-08|Microwave oven|  213|\n",
      "| Jennifer Summers|   2022-08-03|Microwave oven|  329|\n",
      "|      Dana Nguyen|   2022-08-16|Microwave oven|  577|\n",
      "+-----------------+-------------+--------------+-----+\n",
      "only showing top 20 rows\n",
      "\n"
     ]
    }
   ],
   "source": [
    "df.show()"
   ]
  },
  {
   "cell_type": "code",
   "execution_count": 13,
   "id": "3710af99-9921-4b10-af38-64c27a28912a",
   "metadata": {},
   "outputs": [
    {
     "data": {
      "text/plain": [
       "[Row(client='Norma Fisher', purchase_date='2022-08-09', product='Vacuum cleaner', price='121'),\n",
       " Row(client='Norma Fisher', purchase_date='2022-08-13', product='Microwave oven', price='348'),\n",
       " Row(client='Norma Fisher', purchase_date='2022-08-12', product='Phone', price='1126')]"
      ]
     },
     "execution_count": 13,
     "metadata": {},
     "output_type": "execute_result"
    }
   ],
   "source": [
    "df.head(3)"
   ]
  },
  {
   "cell_type": "code",
   "execution_count": 15,
   "id": "cfaf4d1d-b67e-4d88-97f5-8cead8fad1e6",
   "metadata": {},
   "outputs": [
    {
     "name": "stdout",
     "output_type": "stream",
     "text": [
      "+-------+--------------+-------------+--------------+-----------------+\n",
      "|summary|        client|purchase_date|       product|            price|\n",
      "+-------+--------------+-------------+--------------+-----------------+\n",
      "|  count|          1000|         1000|          1000|             1000|\n",
      "|   mean|          null|         null|          null|         1256.395|\n",
      "| stddev|          null|         null|          null|1099.510440233827|\n",
      "|    min|     Adam Wood|   2022-08-01|        Laptop|             1007|\n",
      "|    max|Zachary Austin|   2022-08-30|coffee machine|              994|\n",
      "+-------+--------------+-------------+--------------+-----------------+\n",
      "\n"
     ]
    }
   ],
   "source": [
    "df.describe().show()"
   ]
  },
  {
   "cell_type": "code",
   "execution_count": 16,
   "id": "eaeeaaa7-723b-4ed7-99e1-259fa7bac2c4",
   "metadata": {},
   "outputs": [
    {
     "name": "stdout",
     "output_type": "stream",
     "text": [
      "+-----------------+-------------+--------------+-----+\n",
      "|           client|purchase_date|       product|price|\n",
      "+-----------------+-------------+--------------+-----+\n",
      "|  Elizabeth Woods|   2022-08-26|            TV| 1766|\n",
      "| Peter Montgomery|   2022-08-03|            TV| 1994|\n",
      "| Peter Montgomery|   2022-08-16|coffee machine| 2804|\n",
      "|Stephanie Collins|   2022-08-18|coffee machine| 1775|\n",
      "| Stephanie Sutton|   2022-08-30|            TV| 2148|\n",
      "|       Susan Levy|   2022-08-23|coffee machine| 2764|\n",
      "|  Tasha Rodriguez|   2022-08-22|            TV| 1754|\n",
      "| Kimberly Maynard|   2022-08-03|            TV| 2225|\n",
      "|   Laurie Wallace|   2022-08-09|coffee machine| 4397|\n",
      "|   Laurie Wallace|   2022-08-19|        Laptop| 3283|\n",
      "|  Janice Johnston|   2022-08-03|coffee machine| 3027|\n",
      "|   Peter Mcdowell|   2022-08-08|            TV| 1944|\n",
      "| Sarah Villanueva|   2022-08-08|        Laptop| 3357|\n",
      "| Sarah Villanueva|   2022-08-19|            TV| 2173|\n",
      "|    Faith Cabrera|   2022-08-26|        Laptop| 3478|\n",
      "|    Faith Cabrera|   2022-08-22|            TV| 2418|\n",
      "|    Faith Cabrera|   2022-08-14|            TV| 1614|\n",
      "|     Kenneth Kent|   2022-08-12|coffee machine| 2566|\n",
      "|  Melanie Johnson|   2022-08-13|            TV| 1932|\n",
      "|     Jacob Hooper|   2022-08-25|coffee machine| 1766|\n",
      "+-----------------+-------------+--------------+-----+\n",
      "only showing top 20 rows\n",
      "\n"
     ]
    }
   ],
   "source": [
    "df.filter(df.price > 1500).show()"
   ]
  },
  {
   "cell_type": "code",
   "execution_count": 19,
   "id": "6e968da0-f65d-4bfb-b9a2-d145f03d4ba5",
   "metadata": {},
   "outputs": [
    {
     "name": "stdout",
     "output_type": "stream",
     "text": [
      "+----------------+-------------+-------+-----+\n",
      "|          client|purchase_date|product|price|\n",
      "+----------------+-------------+-------+-----+\n",
      "| Elizabeth Woods|   2022-08-26|     TV| 1766|\n",
      "|Peter Montgomery|   2022-08-03|     TV| 1994|\n",
      "|Stephanie Sutton|   2022-08-30|     TV| 2148|\n",
      "|     Dana Nguyen|   2022-08-18|     TV| 1117|\n",
      "| Tasha Rodriguez|   2022-08-22|     TV| 1754|\n",
      "|Kimberly Maynard|   2022-08-03|     TV| 2225|\n",
      "|  Peter Mcdowell|   2022-08-08|     TV| 1944|\n",
      "|Sarah Villanueva|   2022-08-19|     TV| 2173|\n",
      "|  Angela Salazar|   2022-08-27|     TV| 1258|\n",
      "|  Angela Salazar|   2022-08-06|     TV|  898|\n",
      "|   Faith Cabrera|   2022-08-22|     TV| 2418|\n",
      "|   Faith Cabrera|   2022-08-14|     TV| 1614|\n",
      "|    Kenneth Kent|   2022-08-03|     TV|  952|\n",
      "| Melanie Johnson|   2022-08-13|     TV| 1932|\n",
      "|    Jacob Hooper|   2022-08-22|     TV| 2115|\n",
      "|     Caleb Clark|   2022-08-30|     TV| 1722|\n",
      "|  Patrick Rogers|   2022-08-02|     TV| 2310|\n",
      "|   Douglas Allen|   2022-08-27|     TV| 2156|\n",
      "| Heather Roberts|   2022-08-22|     TV| 1322|\n",
      "|  Travis Schultz|   2022-08-25|     TV| 1969|\n",
      "+----------------+-------------+-------+-----+\n",
      "only showing top 20 rows\n",
      "\n"
     ]
    }
   ],
   "source": [
    "df.filter( (df.product == \"TV\") & (df.price > 800) ).show()"
   ]
  },
  {
   "cell_type": "code",
   "execution_count": 28,
   "id": "357baa12-77bf-4582-8057-53156761b56f",
   "metadata": {},
   "outputs": [],
   "source": [
    "df.createOrReplaceTempView(\"sales\")"
   ]
  },
  {
   "cell_type": "code",
   "execution_count": 29,
   "id": "83945990-7a65-4ef7-908b-f19014b190a6",
   "metadata": {},
   "outputs": [
    {
     "name": "stdout",
     "output_type": "stream",
     "text": [
      "+-----------------+-------------+--------------+-----+\n",
      "|           client|purchase_date|       product|price|\n",
      "+-----------------+-------------+--------------+-----+\n",
      "|     Norma Fisher|   2022-08-09|Vacuum cleaner|  121|\n",
      "|     Norma Fisher|   2022-08-13|Microwave oven|  348|\n",
      "|     Norma Fisher|   2022-08-12|         Phone| 1126|\n",
      "|   Jorge Sullivan|   2022-08-10|Microwave oven|  171|\n",
      "|  Elizabeth Woods|   2022-08-26|            TV| 1766|\n",
      "|     Susan Wagner|   2022-08-26|Microwave oven|  461|\n",
      "|     Susan Wagner|   2022-08-05|Microwave oven|  561|\n",
      "| Peter Montgomery|   2022-08-03|            TV| 1994|\n",
      "| Peter Montgomery|   2022-08-16|coffee machine| 2804|\n",
      "|Stephanie Collins|   2022-08-20|Vacuum cleaner|  403|\n",
      "|Stephanie Collins|   2022-08-18|coffee machine| 1775|\n",
      "| Stephanie Sutton|   2022-08-09|Vacuum cleaner|  613|\n",
      "| Stephanie Sutton|   2022-08-30|            TV| 2148|\n",
      "| Stephanie Sutton|   2022-08-01|Microwave oven|  568|\n",
      "|       Susan Levy|   2022-08-20|coffee machine|  109|\n",
      "|       Susan Levy|   2022-08-08|Vacuum cleaner|  421|\n",
      "|       Susan Levy|   2022-08-23|coffee machine| 2764|\n",
      "|   Kimberly Smith|   2022-08-08|Microwave oven|  213|\n",
      "| Jennifer Summers|   2022-08-03|Microwave oven|  329|\n",
      "|      Dana Nguyen|   2022-08-16|Microwave oven|  577|\n",
      "+-----------------+-------------+--------------+-----+\n",
      "only showing top 20 rows\n",
      "\n"
     ]
    }
   ],
   "source": [
    "spark.sql(\"select * from sales\").show()"
   ]
  },
  {
   "cell_type": "code",
   "execution_count": 30,
   "id": "f1424091-3474-4a7f-8980-5a23952435a6",
   "metadata": {},
   "outputs": [
    {
     "name": "stdout",
     "output_type": "stream",
     "text": [
      "+----------------+-------------+-------+-----+\n",
      "|          client|purchase_date|product|price|\n",
      "+----------------+-------------+-------+-----+\n",
      "| Elizabeth Woods|   2022-08-26|     TV| 1766|\n",
      "|Peter Montgomery|   2022-08-03|     TV| 1994|\n",
      "|Stephanie Sutton|   2022-08-30|     TV| 2148|\n",
      "|     Dana Nguyen|   2022-08-18|     TV| 1117|\n",
      "| Tasha Rodriguez|   2022-08-22|     TV| 1754|\n",
      "|Kimberly Maynard|   2022-08-03|     TV| 2225|\n",
      "|  Peter Mcdowell|   2022-08-08|     TV| 1944|\n",
      "|Sarah Villanueva|   2022-08-19|     TV| 2173|\n",
      "|  Angela Salazar|   2022-08-27|     TV| 1258|\n",
      "|  Angela Salazar|   2022-08-06|     TV|  898|\n",
      "|   Faith Cabrera|   2022-08-22|     TV| 2418|\n",
      "|   Faith Cabrera|   2022-08-14|     TV| 1614|\n",
      "|    Kenneth Kent|   2022-08-03|     TV|  952|\n",
      "| Melanie Johnson|   2022-08-13|     TV| 1932|\n",
      "|    Jacob Hooper|   2022-08-22|     TV| 2115|\n",
      "|     Caleb Clark|   2022-08-30|     TV| 1722|\n",
      "|  Patrick Rogers|   2022-08-02|     TV| 2310|\n",
      "|   Douglas Allen|   2022-08-27|     TV| 2156|\n",
      "| Heather Roberts|   2022-08-22|     TV| 1322|\n",
      "|  Travis Schultz|   2022-08-25|     TV| 1969|\n",
      "+----------------+-------------+-------+-----+\n",
      "only showing top 20 rows\n",
      "\n"
     ]
    }
   ],
   "source": [
    "spark.sql(\"select * from sales where price > 800 and product='TV'\").show()"
   ]
  },
  {
   "cell_type": "code",
   "execution_count": null,
   "id": "e25a988f-6631-449e-8397-b978e6f38ca8",
   "metadata": {},
   "outputs": [],
   "source": []
  }
 ],
 "metadata": {
  "kernelspec": {
   "display_name": "Python 3 (ipykernel)",
   "language": "python",
   "name": "python3"
  },
  "language_info": {
   "codemirror_mode": {
    "name": "ipython",
    "version": 3
   },
   "file_extension": ".py",
   "mimetype": "text/x-python",
   "name": "python",
   "nbconvert_exporter": "python",
   "pygments_lexer": "ipython3",
   "version": "3.9.13"
  }
 },
 "nbformat": 4,
 "nbformat_minor": 5
}
