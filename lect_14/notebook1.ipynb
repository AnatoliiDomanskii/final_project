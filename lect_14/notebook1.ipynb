{
 "cells": [
  {
   "cell_type": "code",
   "execution_count": 1,
   "metadata": {
    "collapsed": true
   },
   "outputs": [],
   "source": [
    "from pyspark.sql import SparkSession"
   ]
  },
  {
   "cell_type": "code",
   "execution_count": 2,
   "outputs": [
    {
     "name": "stderr",
     "output_type": "stream",
     "text": [
      "Setting default log level to \"WARN\".\n",
      "To adjust logging level use sc.setLogLevel(newLevel). For SparkR, use setLogLevel(newLevel).\n"
     ]
    },
    {
     "name": "stdout",
     "output_type": "stream",
     "text": [
      "22/10/17 19:10:15 WARN NativeCodeLoader: Unable to load native-hadoop library for your platform... using builtin-java classes where applicable\n"
     ]
    }
   ],
   "source": [
    "spark = SparkSession.builder.appName('notebook1_session').getOrCreate()"
   ],
   "metadata": {
    "collapsed": false
   }
  },
  {
   "cell_type": "code",
   "execution_count": 4,
   "outputs": [],
   "source": [
    "actor_df = spark.read.csv('../lect_13/home_task/data/actor.csv', header=True, inferSchema=True)\n",
    "film_actor_df = spark.read.csv('../lect_13/home_task/data/film_actor.csv', header=True, inferSchema=True)"
   ],
   "metadata": {
    "collapsed": false
   }
  },
  {
   "cell_type": "code",
   "execution_count": 5,
   "outputs": [
    {
     "name": "stdout",
     "output_type": "stream",
     "text": [
      "+--------+----------+------------+-------------------+\n",
      "|actor_id|first_name|   last_name|        last_update|\n",
      "+--------+----------+------------+-------------------+\n",
      "|       1|  PENELOPE|     GUINESS|2022-02-15 11:34:33|\n",
      "|       2|      NICK|    WAHLBERG|2022-02-15 11:34:33|\n",
      "|       3|        ED|       CHASE|2022-02-15 11:34:33|\n",
      "|       4|  JENNIFER|       DAVIS|2022-02-15 11:34:33|\n",
      "|       5|    JOHNNY|LOLLOBRIGIDA|2022-02-15 11:34:33|\n",
      "+--------+----------+------------+-------------------+\n",
      "only showing top 5 rows\n",
      "\n"
     ]
    }
   ],
   "source": [
    "actor_df.show(5)"
   ],
   "metadata": {
    "collapsed": false
   }
  },
  {
   "cell_type": "code",
   "execution_count": 6,
   "outputs": [
    {
     "name": "stdout",
     "output_type": "stream",
     "text": [
      "+--------+-------+-------------------+\n",
      "|actor_id|film_id|        last_update|\n",
      "+--------+-------+-------------------+\n",
      "|       1|      1|2022-02-15 12:05:03|\n",
      "|       1|     23|2022-02-15 12:05:03|\n",
      "|       1|     25|2022-02-15 12:05:03|\n",
      "|       1|    106|2022-02-15 12:05:03|\n",
      "|       1|    140|2022-02-15 12:05:03|\n",
      "+--------+-------+-------------------+\n",
      "only showing top 5 rows\n",
      "\n"
     ]
    }
   ],
   "source": [
    "film_actor_df.show(5)"
   ],
   "metadata": {
    "collapsed": false
   }
  },
  {
   "cell_type": "code",
   "execution_count": 15,
   "outputs": [],
   "source": [
    "df_join = actor_df.join(film_actor_df, actor_df.actor_id==film_actor_df.actor_id, 'inner')"
   ],
   "metadata": {
    "collapsed": false
   }
  },
  {
   "cell_type": "code",
   "execution_count": 16,
   "outputs": [
    {
     "name": "stdout",
     "output_type": "stream",
     "text": [
      "+--------+----------+---------+-------------------+--------+-------+-------------------+\n",
      "|actor_id|first_name|last_name|        last_update|actor_id|film_id|        last_update|\n",
      "+--------+----------+---------+-------------------+--------+-------+-------------------+\n",
      "|       1|  PENELOPE|  GUINESS|2022-02-15 11:34:33|       1|      1|2022-02-15 12:05:03|\n",
      "|       1|  PENELOPE|  GUINESS|2022-02-15 11:34:33|       1|     23|2022-02-15 12:05:03|\n",
      "|       1|  PENELOPE|  GUINESS|2022-02-15 11:34:33|       1|     25|2022-02-15 12:05:03|\n",
      "|       1|  PENELOPE|  GUINESS|2022-02-15 11:34:33|       1|    106|2022-02-15 12:05:03|\n",
      "|       1|  PENELOPE|  GUINESS|2022-02-15 11:34:33|       1|    140|2022-02-15 12:05:03|\n",
      "+--------+----------+---------+-------------------+--------+-------+-------------------+\n",
      "only showing top 5 rows\n",
      "\n"
     ]
    }
   ],
   "source": [
    "df_join.show(5)"
   ],
   "metadata": {
    "collapsed": false
   }
  },
  {
   "cell_type": "code",
   "execution_count": 17,
   "outputs": [
    {
     "data": {
      "text/plain": "199"
     },
     "execution_count": 17,
     "metadata": {},
     "output_type": "execute_result"
    }
   ],
   "source": [
    "df_join.select('first_name', 'last_name').distinct().count()"
   ],
   "metadata": {
    "collapsed": false
   }
  },
  {
   "cell_type": "code",
   "execution_count": 18,
   "outputs": [],
   "source": [
    "df = spark.read.csv('./data/oscars.csv', inferSchema=True, header=True)"
   ],
   "metadata": {
    "collapsed": false
   }
  },
  {
   "cell_type": "code",
   "execution_count": 19,
   "outputs": [
    {
     "name": "stdout",
     "output_type": "stream",
     "text": [
      "+--------+--------+------------+--------------+--------------------+---+-------------+-------------------+--------+-------+-------+\n",
      "|oscar_no|oscar_yr|       award|          name|               movie|age|     birth_pl|         birth_date|birth_mo|birth_d|birth_y|\n",
      "+--------+--------+------------+--------------+--------------------+---+-------------+-------------------+--------+-------+-------+\n",
      "|       1|    1929|Best actress|  Janet Gaynor|          7th Heaven| 22| Pennsylvania|1906-10-06 00:00:00|      10|      6|   1906|\n",
      "|       2|    1930|Best actress| Mary Pickford|            Coquette| 37|       Canada|1892-04-08 00:00:00|       4|      8|   1892|\n",
      "|       3|    1931|Best actress| Norma Shearer|        The Divorcee| 28|       Canada|1902-08-10 00:00:00|       8|     10|   1902|\n",
      "|       4|    1932|Best actress|Marie Dressler|        Min and Bill| 63|       Canada|1868-11-09 00:00:00|      11|      9|   1868|\n",
      "|       5|    1933|Best actress|   Helen Hayes|The Sin of Madelo...| 32|Washington DC|1900-10-10 00:00:00|      10|     10|   1900|\n",
      "+--------+--------+------------+--------------+--------------------+---+-------------+-------------------+--------+-------+-------+\n",
      "only showing top 5 rows\n",
      "\n"
     ]
    }
   ],
   "source": [
    "df.show(5)"
   ],
   "metadata": {
    "collapsed": false
   }
  },
  {
   "cell_type": "code",
   "execution_count": 22,
   "outputs": [
    {
     "name": "stdout",
     "output_type": "stream",
     "text": [
      "+--------+--------+----------+----------------+--------------------+---+------------+-------------------+--------+-------+-------+\n",
      "|oscar_no|oscar_yr|     award|            name|               movie|age|    birth_pl|         birth_date|birth_mo|birth_d|birth_y|\n",
      "+--------+--------+----------+----------------+--------------------+---+------------+-------------------+--------+-------+-------+\n",
      "|       1|    1929|Best actor|   Emil Jannings|The Way of All Fl...| 44| Switzerland|1884-07-23 00:00:00|       7|     23|   1884|\n",
      "|       2|    1930|Best actor|   Warner Baxter|      In Old Arizona| 40|        Ohio|1889-03-29 00:00:00|       3|     29|   1889|\n",
      "|       3|    1931|Best actor|   George Arliss|            Disraeli| 62|     England|1868-04-10 00:00:00|       4|     10|   1868|\n",
      "|       4|    1932|Best actor|Lionel Barrymore|         A Free Soul| 53|Pennsylvania|1878-04-28 00:00:00|       4|     28|   1878|\n",
      "|       5|    1933|Best actor|   Fredric March|Dr. Jekyll and Mr...| 35|   Wisconsin|1897-08-31 00:00:00|       8|     31|   1897|\n",
      "+--------+--------+----------+----------------+--------------------+---+------------+-------------------+--------+-------+-------+\n",
      "only showing top 5 rows\n",
      "\n"
     ]
    }
   ],
   "source": [
    "df_actors = df.where(\"award == 'Best actor'\")\n",
    "df_actors.show(5)"
   ],
   "metadata": {
    "collapsed": false
   }
  },
  {
   "cell_type": "code",
   "execution_count": 24,
   "outputs": [
    {
     "name": "stdout",
     "output_type": "stream",
     "text": [
      "+--------+--------+------------+--------------+--------------------+---+-------------+-------------------+--------+-------+-------+\n",
      "|oscar_no|oscar_yr|       award|          name|               movie|age|     birth_pl|         birth_date|birth_mo|birth_d|birth_y|\n",
      "+--------+--------+------------+--------------+--------------------+---+-------------+-------------------+--------+-------+-------+\n",
      "|       1|    1929|Best actress|  Janet Gaynor|          7th Heaven| 22| Pennsylvania|1906-10-06 00:00:00|      10|      6|   1906|\n",
      "|       2|    1930|Best actress| Mary Pickford|            Coquette| 37|       Canada|1892-04-08 00:00:00|       4|      8|   1892|\n",
      "|       3|    1931|Best actress| Norma Shearer|        The Divorcee| 28|       Canada|1902-08-10 00:00:00|       8|     10|   1902|\n",
      "|       4|    1932|Best actress|Marie Dressler|        Min and Bill| 63|       Canada|1868-11-09 00:00:00|      11|      9|   1868|\n",
      "|       5|    1933|Best actress|   Helen Hayes|The Sin of Madelo...| 32|Washington DC|1900-10-10 00:00:00|      10|     10|   1900|\n",
      "+--------+--------+------------+--------------+--------------------+---+-------------+-------------------+--------+-------+-------+\n",
      "only showing top 5 rows\n",
      "\n"
     ]
    }
   ],
   "source": [
    "df_actress = df.where(\"award == 'Best actress'\")\n",
    "df_actress.show(5)"
   ],
   "metadata": {
    "collapsed": false
   }
  },
  {
   "cell_type": "code",
   "execution_count": 25,
   "outputs": [],
   "source": [
    "df_all_actors = df_actors.union(df_actress)"
   ],
   "metadata": {
    "collapsed": false
   }
  },
  {
   "cell_type": "code",
   "execution_count": 26,
   "outputs": [
    {
     "data": {
      "text/plain": "184"
     },
     "execution_count": 26,
     "metadata": {},
     "output_type": "execute_result"
    }
   ],
   "source": [
    "df_all_actors.count()"
   ],
   "metadata": {
    "collapsed": false
   }
  },
  {
   "cell_type": "code",
   "execution_count": 27,
   "outputs": [
    {
     "data": {
      "text/plain": "92"
     },
     "execution_count": 27,
     "metadata": {},
     "output_type": "execute_result"
    }
   ],
   "source": [
    "df_actors.count()"
   ],
   "metadata": {
    "collapsed": false
   }
  },
  {
   "cell_type": "code",
   "execution_count": 28,
   "outputs": [
    {
     "data": {
      "text/plain": "92"
     },
     "execution_count": 28,
     "metadata": {},
     "output_type": "execute_result"
    }
   ],
   "source": [
    "df_actress.count()"
   ],
   "metadata": {
    "collapsed": false
   }
  },
  {
   "cell_type": "code",
   "execution_count": null,
   "outputs": [],
   "source": [],
   "metadata": {
    "collapsed": false
   }
  }
 ],
 "metadata": {
  "kernelspec": {
   "display_name": "Python 3",
   "language": "python",
   "name": "python3"
  },
  "language_info": {
   "codemirror_mode": {
    "name": "ipython",
    "version": 2
   },
   "file_extension": ".py",
   "mimetype": "text/x-python",
   "name": "python",
   "nbconvert_exporter": "python",
   "pygments_lexer": "ipython2",
   "version": "2.7.6"
  }
 },
 "nbformat": 4,
 "nbformat_minor": 0
}
