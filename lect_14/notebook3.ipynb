{
 "cells": [
  {
   "cell_type": "code",
   "execution_count": 11,
   "metadata": {
    "collapsed": true
   },
   "outputs": [],
   "source": [
    "from pyspark.sql import SparkSession, types as t, functions as f\n",
    "from pyspark.sql import Row"
   ]
  },
  {
   "cell_type": "code",
   "execution_count": 2,
   "outputs": [
    {
     "name": "stderr",
     "output_type": "stream",
     "text": [
      "Setting default log level to \"WARN\".\n",
      "To adjust logging level use sc.setLogLevel(newLevel). For SparkR, use setLogLevel(newLevel).\n"
     ]
    },
    {
     "name": "stdout",
     "output_type": "stream",
     "text": [
      "22/10/17 20:11:24 WARN NativeCodeLoader: Unable to load native-hadoop library for your platform... using builtin-java classes where applicable\n",
      "22/10/17 20:11:25 WARN Utils: Service 'SparkUI' could not bind on port 4040. Attempting port 4041.\n",
      "22/10/17 20:11:25 WARN Utils: Service 'SparkUI' could not bind on port 4041. Attempting port 4042.\n"
     ]
    }
   ],
   "source": [
    "spark = SparkSession.builder.appName('notebook2_session').getOrCreate()"
   ],
   "metadata": {
    "collapsed": false
   }
  },
  {
   "cell_type": "code",
   "execution_count": 6,
   "outputs": [],
   "source": [
    "department1 = Row(id=1, name=\"IT\")\n",
    "department2 = Row(id=1, name=\"Accounting\")\n",
    "department3 = Row(id=1, name=\"Legal\")"
   ],
   "metadata": {
    "collapsed": false
   }
  },
  {
   "cell_type": "code",
   "execution_count": 4,
   "outputs": [],
   "source": [
    "employee1 = Row(first_name='Sarah', second_name='Connor', age=40, salary=50000)\n",
    "employee2 = Row(first_name='John', second_name='Connor', age=18, salary=40000)\n",
    "employee3 = Row(first_name='Terminator', second_name='T800', age=5, salary=70000)\n",
    "employee4 = Row(first_name='Terminator', second_name='T1000', age=3, salary=80000)"
   ],
   "metadata": {
    "collapsed": false
   }
  },
  {
   "cell_type": "code",
   "execution_count": 7,
   "outputs": [],
   "source": [
    "dept_it = Row(department=department1, employees=[employee3, employee4])\n",
    "dept_accounting = Row(department=department2, employees=[employee1])\n",
    "dept_legal = Row(department=department3, employees=[employee1, employee2, employee3])"
   ],
   "metadata": {
    "collapsed": false
   }
  },
  {
   "cell_type": "code",
   "execution_count": 9,
   "outputs": [],
   "source": [
    "departments = [dept_it, dept_accounting, dept_legal]"
   ],
   "metadata": {
    "collapsed": false
   }
  },
  {
   "cell_type": "code",
   "execution_count": 10,
   "outputs": [
    {
     "data": {
      "text/plain": "[Row(department=Row(id=1, name='IT'), employees=[Row(first_name='Terminator', second_name='T800', age=5, salary=70000), Row(first_name='Terminator', second_name='T1000', age=3, salary=80000)]),\n Row(department=Row(id=1, name='Accounting'), employees=[Row(first_name='Sarah', second_name='Connor', age=40, salary=50000)]),\n Row(department=Row(id=1, name='Legal'), employees=[Row(first_name='Sarah', second_name='Connor', age=40, salary=50000), Row(first_name='John', second_name='Connor', age=18, salary=40000), Row(first_name='Terminator', second_name='T800', age=5, salary=70000)])]"
     },
     "execution_count": 10,
     "metadata": {},
     "output_type": "execute_result"
    }
   ],
   "source": [
    "departments"
   ],
   "metadata": {
    "collapsed": false
   }
  },
  {
   "cell_type": "code",
   "execution_count": 13,
   "outputs": [],
   "source": [
    "df = spark.createDataFrame(departments)"
   ],
   "metadata": {
    "collapsed": false
   }
  },
  {
   "cell_type": "code",
   "execution_count": 15,
   "outputs": [
    {
     "name": "stdout",
     "output_type": "stream",
     "text": [
      "+---------------+-------------------------------------------------------------------------------------+\n",
      "|department     |employees                                                                            |\n",
      "+---------------+-------------------------------------------------------------------------------------+\n",
      "|{1, IT}        |[{Terminator, T800, 5, 70000}, {Terminator, T1000, 3, 80000}]                        |\n",
      "|{1, Accounting}|[{Sarah, Connor, 40, 50000}]                                                         |\n",
      "|{1, Legal}     |[{Sarah, Connor, 40, 50000}, {John, Connor, 18, 40000}, {Terminator, T800, 5, 70000}]|\n",
      "+---------------+-------------------------------------------------------------------------------------+\n",
      "\n"
     ]
    }
   ],
   "source": [
    "df.show(truncate=False)"
   ],
   "metadata": {
    "collapsed": false
   }
  },
  {
   "cell_type": "code",
   "execution_count": 17,
   "outputs": [
    {
     "name": "stdout",
     "output_type": "stream",
     "text": [
      "+-------------------------------------------------------------------------------------+\n",
      "|employees                                                                            |\n",
      "+-------------------------------------------------------------------------------------+\n",
      "|[{Terminator, T800, 5, 70000}, {Terminator, T1000, 3, 80000}]                        |\n",
      "|[{Sarah, Connor, 40, 50000}]                                                         |\n",
      "|[{Sarah, Connor, 40, 50000}, {John, Connor, 18, 40000}, {Terminator, T800, 5, 70000}]|\n",
      "+-------------------------------------------------------------------------------------+\n",
      "\n"
     ]
    }
   ],
   "source": [
    "df.select('employees').show(truncate=False)"
   ],
   "metadata": {
    "collapsed": false
   }
  },
  {
   "cell_type": "code",
   "execution_count": 21,
   "outputs": [
    {
     "name": "stdout",
     "output_type": "stream",
     "text": [
      "+-----------------------------+\n",
      "|emps                         |\n",
      "+-----------------------------+\n",
      "|{Terminator, T800, 5, 70000} |\n",
      "|{Terminator, T1000, 3, 80000}|\n",
      "|{Sarah, Connor, 40, 50000}   |\n",
      "|{Sarah, Connor, 40, 50000}   |\n",
      "|{John, Connor, 18, 40000}    |\n",
      "|{Terminator, T800, 5, 70000} |\n",
      "+-----------------------------+\n",
      "\n"
     ]
    }
   ],
   "source": [
    "df.select(f.explode('employees').alias('emps')).show(truncate=False)"
   ],
   "metadata": {
    "collapsed": false
   }
  },
  {
   "cell_type": "code",
   "execution_count": null,
   "outputs": [],
   "source": [],
   "metadata": {
    "collapsed": false
   }
  }
 ],
 "metadata": {
  "kernelspec": {
   "display_name": "Python 3",
   "language": "python",
   "name": "python3"
  },
  "language_info": {
   "codemirror_mode": {
    "name": "ipython",
    "version": 2
   },
   "file_extension": ".py",
   "mimetype": "text/x-python",
   "name": "python",
   "nbconvert_exporter": "python",
   "pygments_lexer": "ipython2",
   "version": "2.7.6"
  }
 },
 "nbformat": 4,
 "nbformat_minor": 0
}
