{
 "cells": [
  {
   "cell_type": "markdown",
   "source": [
    "# Spark DataFrame API examples"
   ],
   "metadata": {
    "collapsed": false
   }
  },
  {
   "cell_type": "code",
   "execution_count": 2,
   "outputs": [],
   "source": [
    "from pyspark.sql import SparkSession, functions as f"
   ],
   "metadata": {
    "collapsed": false
   }
  },
  {
   "cell_type": "code",
   "execution_count": 3,
   "outputs": [
    {
     "name": "stderr",
     "output_type": "stream",
     "text": [
      "Setting default log level to \"WARN\".\n",
      "To adjust logging level use sc.setLogLevel(newLevel). For SparkR, use setLogLevel(newLevel).\n"
     ]
    },
    {
     "name": "stdout",
     "output_type": "stream",
     "text": [
      "22/10/17 16:42:20 WARN NativeCodeLoader: Unable to load native-hadoop library for your platform... using builtin-java classes where applicable\n"
     ]
    }
   ],
   "source": [
    "spark = SparkSession.builder.config(\n",
    "\n",
    ").appName('notebook3_session').getOrCreate()"
   ],
   "metadata": {
    "collapsed": false
   }
  },
  {
   "cell_type": "code",
   "execution_count": 4,
   "outputs": [],
   "source": [
    "actors_df = spark.read.csv(\n",
    "    './data/oscars.csv',\n",
    "    header=True,\n",
    "    inferSchema=True,\n",
    ")\n"
   ],
   "metadata": {
    "collapsed": false
   }
  },
  {
   "cell_type": "code",
   "execution_count": 10,
   "outputs": [
    {
     "name": "stdout",
     "output_type": "stream",
     "text": [
      "+--------+--------+------------+-------------------+--------------------+---+-------------+-------------------+--------+-------+-------+\n",
      "|oscar_no|oscar_yr|       award|               name|               movie|age|     birth_pl|         birth_date|birth_mo|birth_d|birth_y|\n",
      "+--------+--------+------------+-------------------+--------------------+---+-------------+-------------------+--------+-------+-------+\n",
      "|       1|    1929|Best actress|       Janet Gaynor|          7th Heaven| 22| Pennsylvania|1906-10-06 00:00:00|      10|      6|   1906|\n",
      "|       2|    1930|Best actress|      Mary Pickford|            Coquette| 37|       Canada|1892-04-08 00:00:00|       4|      8|   1892|\n",
      "|       3|    1931|Best actress|      Norma Shearer|        The Divorcee| 28|       Canada|1902-08-10 00:00:00|       8|     10|   1902|\n",
      "|       4|    1932|Best actress|     Marie Dressler|        Min and Bill| 63|       Canada|1868-11-09 00:00:00|      11|      9|   1868|\n",
      "|       5|    1933|Best actress|        Helen Hayes|The Sin of Madelo...| 32|Washington DC|1900-10-10 00:00:00|      10|     10|   1900|\n",
      "|       6|    1934|Best actress|  Katharine Hepburn|       Morning Glory| 26|  Connecticut|1907-05-12 00:00:00|       5|     12|   1907|\n",
      "|       7|    1935|Best actress|  Claudette Colbert|It Happened One N...| 31|       France|1903-09-13 00:00:00|       9|     13|   1903|\n",
      "|       8|    1936|Best actress|        Bette Davis|           Dangerous| 27|Massachusetts|1908-04-05 00:00:00|       4|      5|   1908|\n",
      "|       9|    1937|Best actress|       Luise Rainer|  The Great Zeigfeld| 26|      Germany|1910-01-12 00:00:00|       1|     12|   1910|\n",
      "|      10|    1938|Best actress|       Luise Rainer|      The Good Earth| 27|      Germany|1910-01-12 00:00:00|       1|     12|   1910|\n",
      "|      11|    1939|Best actress|        Bette Davis|             Jezebel| 30|Massachusetts|1908-04-05 00:00:00|       4|      5|   1908|\n",
      "|      12|    1940|Best actress|       Vivien Leigh|  Gone With the Wind| 26|        India|1913-11-05 00:00:00|      11|      5|   1913|\n",
      "|      13|    1941|Best actress|      Ginger Rogers|         Kitty Foyle| 29|     Missouri|1911-07-16 00:00:00|       7|     16|   1911|\n",
      "|      14|    1942|Best actress|      Joan Fontaine|           Suspicion| 24|        Japan|1917-10-22 00:00:00|      10|     22|   1917|\n",
      "|      15|    1943|Best actress|       Greer Garson|        Mrs. Miniver| 38|      England|1904-09-29 00:00:00|       9|     29|   1904|\n",
      "|      16|    1944|Best actress|     Jennifer Jones|The Song of Berna...| 24|     Oklahoma|1919-03-02 00:00:00|       3|      2|   1919|\n",
      "|      17|    1945|Best actress|     Ingrid Bergman|            Gaslight| 29|       Sweden|1915-08-29 00:00:00|       8|     29|   1915|\n",
      "|      18|    1946|Best actress|      Joan Crawford|      Mildred Pierce| 33|        Texas|1912-03-23 00:00:00|       3|     23|   1912|\n",
      "|      19|    1947|Best actress|Olivia de Havilland|     To Each His Own| 30|        Japan|1916-07-01 00:00:00|       7|      1|   1916|\n",
      "|      20|    1948|Best actress|      Loretta Young|The Farmer's Daug...| 34|         Utah|1913-01-06 00:00:00|       1|      6|   1913|\n",
      "+--------+--------+------------+-------------------+--------------------+---+-------------+-------------------+--------+-------+-------+\n",
      "only showing top 20 rows\n",
      "\n"
     ]
    }
   ],
   "source": [
    "actors_df.show()"
   ],
   "metadata": {
    "collapsed": false
   }
  },
  {
   "cell_type": "code",
   "execution_count": 11,
   "outputs": [
    {
     "name": "stdout",
     "output_type": "stream",
     "text": [
      "root\n",
      " |-- oscar_no: integer (nullable = true)\n",
      " |-- oscar_yr: integer (nullable = true)\n",
      " |-- award: string (nullable = true)\n",
      " |-- name: string (nullable = true)\n",
      " |-- movie: string (nullable = true)\n",
      " |-- age: integer (nullable = true)\n",
      " |-- birth_pl: string (nullable = true)\n",
      " |-- birth_date: timestamp (nullable = true)\n",
      " |-- birth_mo: integer (nullable = true)\n",
      " |-- birth_d: integer (nullable = true)\n",
      " |-- birth_y: integer (nullable = true)\n",
      "\n"
     ]
    }
   ],
   "source": [
    "actors_df.printSchema()"
   ],
   "metadata": {
    "collapsed": false
   }
  },
  {
   "cell_type": "code",
   "execution_count": 13,
   "outputs": [
    {
     "name": "stdout",
     "output_type": "stream",
     "text": [
      "+-------------------+---+--------+-------+-------+\n",
      "|               name|age|birth_mo|birth_d|birth_y|\n",
      "+-------------------+---+--------+-------+-------+\n",
      "|       Janet Gaynor| 22|      10|      6|   1906|\n",
      "|      Mary Pickford| 37|       4|      8|   1892|\n",
      "|      Norma Shearer| 28|       8|     10|   1902|\n",
      "|     Marie Dressler| 63|      11|      9|   1868|\n",
      "|        Helen Hayes| 32|      10|     10|   1900|\n",
      "|  Katharine Hepburn| 26|       5|     12|   1907|\n",
      "|  Claudette Colbert| 31|       9|     13|   1903|\n",
      "|        Bette Davis| 27|       4|      5|   1908|\n",
      "|       Luise Rainer| 26|       1|     12|   1910|\n",
      "|       Luise Rainer| 27|       1|     12|   1910|\n",
      "|        Bette Davis| 30|       4|      5|   1908|\n",
      "|       Vivien Leigh| 26|      11|      5|   1913|\n",
      "|      Ginger Rogers| 29|       7|     16|   1911|\n",
      "|      Joan Fontaine| 24|      10|     22|   1917|\n",
      "|       Greer Garson| 38|       9|     29|   1904|\n",
      "|     Jennifer Jones| 24|       3|      2|   1919|\n",
      "|     Ingrid Bergman| 29|       8|     29|   1915|\n",
      "|      Joan Crawford| 33|       3|     23|   1912|\n",
      "|Olivia de Havilland| 30|       7|      1|   1916|\n",
      "|      Loretta Young| 34|       1|      6|   1913|\n",
      "+-------------------+---+--------+-------+-------+\n",
      "only showing top 20 rows\n",
      "\n"
     ]
    }
   ],
   "source": [
    "actors_df.select('name', 'age', 'birth_mo', 'birth_d', 'birth_y').show()"
   ],
   "metadata": {
    "collapsed": false
   }
  },
  {
   "cell_type": "code",
   "execution_count": 15,
   "outputs": [
    {
     "name": "stdout",
     "output_type": "stream",
     "text": [
      "+-------------------+---+--------+-------+-------+\n",
      "|               name|age|birth_mo|birth_d|birth_y|\n",
      "+-------------------+---+--------+-------+-------+\n",
      "|      Mary Pickford| 37|       4|      8|   1892|\n",
      "|     Marie Dressler| 63|      11|      9|   1868|\n",
      "|        Helen Hayes| 32|      10|     10|   1900|\n",
      "|  Claudette Colbert| 31|       9|     13|   1903|\n",
      "|        Bette Davis| 30|       4|      5|   1908|\n",
      "|       Greer Garson| 38|       9|     29|   1904|\n",
      "|      Joan Crawford| 33|       3|     23|   1912|\n",
      "|Olivia de Havilland| 30|       7|      1|   1916|\n",
      "|      Loretta Young| 34|       1|      6|   1913|\n",
      "|         Jane Wyman| 34|       1|      4|   1914|\n",
      "|Olivia de Havilland| 33|       7|      1|   1916|\n",
      "|       Vivien Leigh| 38|      11|      5|   1913|\n",
      "|      Shirley Booth| 54|       8|     30|   1898|\n",
      "|       Anna Magnani| 47|       3|      7|   1908|\n",
      "|     Ingrid Bergman| 41|       8|     29|   1915|\n",
      "|      Susan Hayward| 41|       6|     30|   1917|\n",
      "|    Simone Signoret| 38|       3|     25|   1921|\n",
      "|      Anne Bancroft| 31|       9|     17|   1931|\n",
      "|      Patricia Neal| 37|       1|     20|   1926|\n",
      "|   Elizabeth Taylor| 34|       2|     27|   1932|\n",
      "+-------------------+---+--------+-------+-------+\n",
      "only showing top 20 rows\n",
      "\n"
     ]
    }
   ],
   "source": [
    "actors_df.select('name', 'age', 'birth_mo', 'birth_d', 'birth_y').where(\"age >= 30\").show()"
   ],
   "metadata": {
    "collapsed": false
   }
  },
  {
   "cell_type": "code",
   "execution_count": 16,
   "outputs": [
    {
     "name": "stdout",
     "output_type": "stream",
     "text": [
      "+-------------------+---+--------+-------+-------+\n",
      "|               name|age|birth_mo|birth_d|birth_y|\n",
      "+-------------------+---+--------+-------+-------+\n",
      "|      Mary Pickford| 37|       4|      8|   1892|\n",
      "|     Marie Dressler| 63|      11|      9|   1868|\n",
      "|        Helen Hayes| 32|      10|     10|   1900|\n",
      "|  Claudette Colbert| 31|       9|     13|   1903|\n",
      "|        Bette Davis| 30|       4|      5|   1908|\n",
      "|       Greer Garson| 38|       9|     29|   1904|\n",
      "|      Joan Crawford| 33|       3|     23|   1912|\n",
      "|Olivia de Havilland| 30|       7|      1|   1916|\n",
      "|      Loretta Young| 34|       1|      6|   1913|\n",
      "|         Jane Wyman| 34|       1|      4|   1914|\n",
      "|Olivia de Havilland| 33|       7|      1|   1916|\n",
      "|       Vivien Leigh| 38|      11|      5|   1913|\n",
      "|      Shirley Booth| 54|       8|     30|   1898|\n",
      "|       Anna Magnani| 47|       3|      7|   1908|\n",
      "|     Ingrid Bergman| 41|       8|     29|   1915|\n",
      "|      Susan Hayward| 41|       6|     30|   1917|\n",
      "|    Simone Signoret| 38|       3|     25|   1921|\n",
      "|      Anne Bancroft| 31|       9|     17|   1931|\n",
      "|      Patricia Neal| 37|       1|     20|   1926|\n",
      "|   Elizabeth Taylor| 34|       2|     27|   1932|\n",
      "+-------------------+---+--------+-------+-------+\n",
      "only showing top 20 rows\n",
      "\n"
     ]
    }
   ],
   "source": [
    "actors_df.select('name', 'age', 'birth_mo', 'birth_d', 'birth_y').filter(\"age >= 30\").show()"
   ],
   "metadata": {
    "collapsed": false
   }
  },
  {
   "cell_type": "code",
   "execution_count": 22,
   "outputs": [
    {
     "name": "stdout",
     "output_type": "stream",
     "text": [
      "+-------------------+---+-----------+-------+-------+\n",
      "|               name|age|birth_month|birth_d|birth_y|\n",
      "+-------------------+---+-----------+-------+-------+\n",
      "|      Mary Pickford| 37|          4|      8|   1892|\n",
      "|     Marie Dressler| 63|         11|      9|   1868|\n",
      "|        Helen Hayes| 32|         10|     10|   1900|\n",
      "|  Claudette Colbert| 31|          9|     13|   1903|\n",
      "|        Bette Davis| 30|          4|      5|   1908|\n",
      "|       Greer Garson| 38|          9|     29|   1904|\n",
      "|      Joan Crawford| 33|          3|     23|   1912|\n",
      "|Olivia de Havilland| 30|          7|      1|   1916|\n",
      "|      Loretta Young| 34|          1|      6|   1913|\n",
      "|         Jane Wyman| 34|          1|      4|   1914|\n",
      "|Olivia de Havilland| 33|          7|      1|   1916|\n",
      "|       Vivien Leigh| 38|         11|      5|   1913|\n",
      "|      Shirley Booth| 54|          8|     30|   1898|\n",
      "|       Anna Magnani| 47|          3|      7|   1908|\n",
      "|     Ingrid Bergman| 41|          8|     29|   1915|\n",
      "|      Susan Hayward| 41|          6|     30|   1917|\n",
      "|    Simone Signoret| 38|          3|     25|   1921|\n",
      "|      Anne Bancroft| 31|          9|     17|   1931|\n",
      "|      Patricia Neal| 37|          1|     20|   1926|\n",
      "|   Elizabeth Taylor| 34|          2|     27|   1932|\n",
      "+-------------------+---+-----------+-------+-------+\n",
      "only showing top 20 rows\n",
      "\n"
     ]
    }
   ],
   "source": [
    "# select name, age, ...\n",
    "actors_df.select(\n",
    "    actors_df.name, actors_df['age'], f.col('birth_mo').alias('birth_month'), 'birth_d', 'birth_y'\n",
    ").where(\"age >= 30\").show()"
   ],
   "metadata": {
    "collapsed": false
   }
  },
  {
   "cell_type": "code",
   "execution_count": 24,
   "outputs": [
    {
     "name": "stdout",
     "output_type": "stream",
     "text": [
      "+-------------------+---+--------+-------+-------+\n",
      "|               name|age|birth_mo|birth_d|birth_y|\n",
      "+-------------------+---+--------+-------+-------+\n",
      "|      Mary Pickford| 37|       4|      8|   1892|\n",
      "|        Helen Hayes| 32|      10|     10|   1900|\n",
      "|  Claudette Colbert| 31|       9|     13|   1903|\n",
      "|        Bette Davis| 30|       4|      5|   1908|\n",
      "|       Greer Garson| 38|       9|     29|   1904|\n",
      "|      Joan Crawford| 33|       3|     23|   1912|\n",
      "|Olivia de Havilland| 30|       7|      1|   1916|\n",
      "|      Loretta Young| 34|       1|      6|   1913|\n",
      "|         Jane Wyman| 34|       1|      4|   1914|\n",
      "|Olivia de Havilland| 33|       7|      1|   1916|\n",
      "|       Vivien Leigh| 38|      11|      5|   1913|\n",
      "|       Anna Magnani| 47|       3|      7|   1908|\n",
      "|     Ingrid Bergman| 41|       8|     29|   1915|\n",
      "|      Susan Hayward| 41|       6|     30|   1917|\n",
      "|    Simone Signoret| 38|       3|     25|   1921|\n",
      "|      Anne Bancroft| 31|       9|     17|   1931|\n",
      "|      Patricia Neal| 37|       1|     20|   1926|\n",
      "|   Elizabeth Taylor| 34|       2|     27|   1932|\n",
      "|       Maggie Smith| 35|      12|     28|   1934|\n",
      "|     Glenda Jackson| 34|       5|      9|   1936|\n",
      "+-------------------+---+--------+-------+-------+\n",
      "only showing top 20 rows\n",
      "\n"
     ]
    }
   ],
   "source": [
    "actors_df.select('name', 'age', 'birth_mo', 'birth_d', 'birth_y').where(\n",
    "    (actors_df.age >= 30) & (actors_df['age'] <= 50)\n",
    ").show()"
   ],
   "metadata": {
    "collapsed": false
   }
  },
  {
   "cell_type": "code",
   "execution_count": 27,
   "outputs": [
    {
     "name": "stdout",
     "output_type": "stream",
     "text": [
      "+-----------------+---+--------+-------+-------+\n",
      "|             name|age|birth_mo|birth_d|birth_y|\n",
      "+-----------------+---+--------+-------+-------+\n",
      "|    Jessica Tandy| 80|       6|      7|   1909|\n",
      "|      Henry Fonda| 76|       5|     16|   1905|\n",
      "|Katharine Hepburn| 74|       5|     12|   1907|\n",
      "|   Marie Dressler| 63|      11|      9|   1868|\n",
      "|    George Arliss| 62|       4|     10|   1868|\n",
      "|       John Wayne| 62|       5|     26|   1907|\n",
      "|     Meryl Streep| 62|       6|     22|   1949|\n",
      "|Katharine Hepburn| 61|       5|     12|   1907|\n",
      "|   Geraldine Page| 61|      11|     22|   1924|\n",
      "|      Paul Newman| 61|       1|     26|   1925|\n",
      "|     Helen Mirren| 61|       7|     26|   1945|\n",
      "|      Peter Finch| 60|       9|     28|   1916|\n",
      "|   Jack Nicholson| 60|       4|     22|   1937|\n",
      "|Katharine Hepburn| 60|       5|     12|   1907|\n",
      "|     Jeff Bridges| 60|      12|      4|   1949|\n",
      "|Frances McDormand| 60|       6|     23|   1957|\n",
      "|      Gary Oldman| 59|       3|     21|   1958|\n",
      "|    Ronald Colman| 56|       2|      9|   1891|\n",
      "|     Rex Harrison| 56|       3|      5|   1908|\n",
      "|       Art Carney| 56|      11|      4|   1918|\n",
      "+-----------------+---+--------+-------+-------+\n",
      "only showing top 20 rows\n",
      "\n"
     ]
    }
   ],
   "source": [
    "actors_df.select('name', 'age', 'birth_mo', 'birth_d', 'birth_y').orderBy(f.desc('age')).show()"
   ],
   "metadata": {
    "collapsed": false
   }
  },
  {
   "cell_type": "code",
   "execution_count": 29,
   "outputs": [
    {
     "name": "stdout",
     "output_type": "stream",
     "text": [
      "+-----------------+\n",
      "|             name|\n",
      "+-----------------+\n",
      "|        Paul Muni|\n",
      "|     Robert Donat|\n",
      "| Laurence Olivier|\n",
      "| Daniel Day-Lewis|\n",
      "|       Emma Stone|\n",
      "|   Ingrid Bergman|\n",
      "|    Loretta Young|\n",
      "| Elisabeth Taylor|\n",
      "|Denzel Washington|\n",
      "|Maximilian Schell|\n",
      "|     Gene Hackman|\n",
      "|     James Cagney|\n",
      "|  Michael Douglas|\n",
      "| Barbra Streisand|\n",
      "|  Natalie Portman|\n",
      "|  Louise Fletcher|\n",
      "|    James Stewart|\n",
      "|   Geraldine Page|\n",
      "|  Ernest Borgnine|\n",
      "|    Robert Duvall|\n",
      "+-----------------+\n",
      "only showing top 20 rows\n",
      "\n"
     ]
    }
   ],
   "source": [
    "actors_df.select('name').distinct().show()"
   ],
   "metadata": {
    "collapsed": false
   }
  },
  {
   "cell_type": "code",
   "execution_count": 30,
   "outputs": [
    {
     "name": "stdout",
     "output_type": "stream",
     "text": [
      "+--------+--------+------------+--------------+--------------------+---+-------------+-------------------+--------+-------+-------+\n",
      "|oscar_no|oscar_yr|       award|          name|               movie|age|     birth_pl|         birth_date|birth_mo|birth_d|birth_y|\n",
      "+--------+--------+------------+--------------+--------------------+---+-------------+-------------------+--------+-------+-------+\n",
      "|       1|    1929|Best actress|  Janet Gaynor|          7th Heaven| 22| Pennsylvania|1906-10-06 00:00:00|      10|      6|   1906|\n",
      "|       2|    1930|Best actress| Mary Pickford|            Coquette| 37|       Canada|1892-04-08 00:00:00|       4|      8|   1892|\n",
      "|       3|    1931|Best actress| Norma Shearer|        The Divorcee| 28|       Canada|1902-08-10 00:00:00|       8|     10|   1902|\n",
      "|       4|    1932|Best actress|Marie Dressler|        Min and Bill| 63|       Canada|1868-11-09 00:00:00|      11|      9|   1868|\n",
      "|       5|    1933|Best actress|   Helen Hayes|The Sin of Madelo...| 32|Washington DC|1900-10-10 00:00:00|      10|     10|   1900|\n",
      "+--------+--------+------------+--------------+--------------------+---+-------------+-------------------+--------+-------+-------+\n",
      "only showing top 5 rows\n",
      "\n"
     ]
    }
   ],
   "source": [
    "actors_df.show(5)"
   ],
   "metadata": {
    "collapsed": false
   }
  },
  {
   "cell_type": "code",
   "execution_count": 32,
   "outputs": [
    {
     "name": "stdout",
     "output_type": "stream",
     "text": [
      "+------------+-----+\n",
      "|       award|count|\n",
      "+------------+-----+\n",
      "|Best actress|   92|\n",
      "|  Best actor|   92|\n",
      "+------------+-----+\n",
      "\n"
     ]
    }
   ],
   "source": [
    "actors_df.groupBy('award').count().show()"
   ],
   "metadata": {
    "collapsed": false
   }
  },
  {
   "cell_type": "code",
   "execution_count": 33,
   "outputs": [
    {
     "name": "stdout",
     "output_type": "stream",
     "text": [
      "+------------+------------+\n",
      "|       award|max(birth_y)|\n",
      "+------------+------------+\n",
      "|Best actress|        1990|\n",
      "|  Best actor|        1982|\n",
      "+------------+------------+\n",
      "\n"
     ]
    }
   ],
   "source": [
    "actors_df.groupBy('award').max('birth_y').show()"
   ],
   "metadata": {
    "collapsed": false
   }
  },
  {
   "cell_type": "code",
   "execution_count": 35,
   "outputs": [
    {
     "name": "stdout",
     "output_type": "stream",
     "text": [
      "+------------+--------------+--------------+\n",
      "|       award|min_birth_year|max_birth_year|\n",
      "+------------+--------------+--------------+\n",
      "|Best actress|          1868|          1990|\n",
      "|  Best actor|          1868|          1982|\n",
      "+------------+--------------+--------------+\n",
      "\n"
     ]
    }
   ],
   "source": [
    "actors_df.groupBy('award').agg(\n",
    "    f.min('birth_y').alias('min_birth_year'),\n",
    "    f.max('birth_y').alias('max_birth_year'),\n",
    ").show()"
   ],
   "metadata": {
    "collapsed": false
   }
  },
  {
   "cell_type": "code",
   "execution_count": 36,
   "outputs": [
    {
     "name": "stdout",
     "output_type": "stream",
     "text": [
      "+--------+--------+------------+--------------+--------------------+---+-------------+-------------------+--------+-------+-------+\n",
      "|oscar_no|oscar_yr|       award|          name|               movie|age|     birth_pl|         birth_date|birth_mo|birth_d|birth_y|\n",
      "+--------+--------+------------+--------------+--------------------+---+-------------+-------------------+--------+-------+-------+\n",
      "|       1|    1929|Best actress|  Janet Gaynor|          7th Heaven| 22| Pennsylvania|1906-10-06 00:00:00|      10|      6|   1906|\n",
      "|       2|    1930|Best actress| Mary Pickford|            Coquette| 37|       Canada|1892-04-08 00:00:00|       4|      8|   1892|\n",
      "|       3|    1931|Best actress| Norma Shearer|        The Divorcee| 28|       Canada|1902-08-10 00:00:00|       8|     10|   1902|\n",
      "|       4|    1932|Best actress|Marie Dressler|        Min and Bill| 63|       Canada|1868-11-09 00:00:00|      11|      9|   1868|\n",
      "|       5|    1933|Best actress|   Helen Hayes|The Sin of Madelo...| 32|Washington DC|1900-10-10 00:00:00|      10|     10|   1900|\n",
      "+--------+--------+------------+--------------+--------------------+---+-------------+-------------------+--------+-------+-------+\n",
      "only showing top 5 rows\n",
      "\n"
     ]
    }
   ],
   "source": [
    "actors_df.show(5)"
   ],
   "metadata": {
    "collapsed": false
   }
  },
  {
   "cell_type": "code",
   "execution_count": 41,
   "outputs": [
    {
     "name": "stdout",
     "output_type": "stream",
     "text": [
      "+-------------------+----------+\n",
      "|               name|birth_date|\n",
      "+-------------------+----------+\n",
      "|       Janet Gaynor| 1906-10-6|\n",
      "|      Mary Pickford|  1892-4-8|\n",
      "|      Norma Shearer| 1902-8-10|\n",
      "|     Marie Dressler| 1868-11-9|\n",
      "|        Helen Hayes|1900-10-10|\n",
      "|  Katharine Hepburn| 1907-5-12|\n",
      "|  Claudette Colbert| 1903-9-13|\n",
      "|        Bette Davis|  1908-4-5|\n",
      "|       Luise Rainer| 1910-1-12|\n",
      "|       Luise Rainer| 1910-1-12|\n",
      "|        Bette Davis|  1908-4-5|\n",
      "|       Vivien Leigh| 1913-11-5|\n",
      "|      Ginger Rogers| 1911-7-16|\n",
      "|      Joan Fontaine|1917-10-22|\n",
      "|       Greer Garson| 1904-9-29|\n",
      "|     Jennifer Jones|  1919-3-2|\n",
      "|     Ingrid Bergman| 1915-8-29|\n",
      "|      Joan Crawford| 1912-3-23|\n",
      "|Olivia de Havilland|  1916-7-1|\n",
      "|      Loretta Young|  1913-1-6|\n",
      "+-------------------+----------+\n",
      "only showing top 20 rows\n",
      "\n"
     ]
    }
   ],
   "source": [
    "actors_df.select(\n",
    "    'name',\n",
    "    f.concat('birth_y', f.lit('-'), 'birth_mo', f.lit('-'), 'birth_d').alias('birth_date'),\n",
    ").show()"
   ],
   "metadata": {
    "collapsed": false
   }
  },
  {
   "cell_type": "code",
   "execution_count": 45,
   "outputs": [
    {
     "name": "stdout",
     "output_type": "stream",
     "text": [
      "+-------------------+---+\n",
      "|               name|age|\n",
      "+-------------------+---+\n",
      "|       Janet Gaynor|122|\n",
      "|      Mary Pickford|137|\n",
      "|      Norma Shearer|128|\n",
      "|     Marie Dressler|163|\n",
      "|        Helen Hayes|132|\n",
      "|  Katharine Hepburn|126|\n",
      "|  Claudette Colbert|131|\n",
      "|        Bette Davis|127|\n",
      "|       Luise Rainer|126|\n",
      "|       Luise Rainer|127|\n",
      "|        Bette Davis|130|\n",
      "|       Vivien Leigh|126|\n",
      "|      Ginger Rogers|129|\n",
      "|      Joan Fontaine|124|\n",
      "|       Greer Garson|138|\n",
      "|     Jennifer Jones|124|\n",
      "|     Ingrid Bergman|129|\n",
      "|      Joan Crawford|133|\n",
      "|Olivia de Havilland|130|\n",
      "|      Loretta Young|134|\n",
      "+-------------------+---+\n",
      "only showing top 20 rows\n",
      "\n"
     ]
    }
   ],
   "source": [
    "actors_df.select('name', 'age').withColumn('age', f.col('age') + 100).show()"
   ],
   "metadata": {
    "collapsed": false
   }
  },
  {
   "cell_type": "code",
   "execution_count": 47,
   "outputs": [
    {
     "name": "stdout",
     "output_type": "stream",
     "text": [
      "+-------------------+---+\n",
      "|               name|age|\n",
      "+-------------------+---+\n",
      "|       Janet Gaynor|122|\n",
      "|      Mary Pickford|137|\n",
      "|      Norma Shearer|128|\n",
      "|     Marie Dressler|163|\n",
      "|        Helen Hayes|132|\n",
      "|  Katharine Hepburn|126|\n",
      "|  Claudette Colbert|131|\n",
      "|        Bette Davis|127|\n",
      "|       Luise Rainer|126|\n",
      "|       Luise Rainer|127|\n",
      "|        Bette Davis|130|\n",
      "|       Vivien Leigh|126|\n",
      "|      Ginger Rogers|129|\n",
      "|      Joan Fontaine|124|\n",
      "|       Greer Garson|138|\n",
      "|     Jennifer Jones|124|\n",
      "|     Ingrid Bergman|129|\n",
      "|      Joan Crawford|133|\n",
      "|Olivia de Havilland|130|\n",
      "|      Loretta Young|134|\n",
      "+-------------------+---+\n",
      "only showing top 20 rows\n",
      "\n"
     ]
    }
   ],
   "source": [
    "def add_100(x: int) -> int:\n",
    "    return x + 100\n",
    "\n",
    "actors_df.select('name', 'age')\\\n",
    "    .withColumn(\n",
    "    'age',\n",
    "    add_100(f.col('age')),\n",
    ").show()"
   ],
   "metadata": {
    "collapsed": false
   }
  },
  {
   "cell_type": "code",
   "execution_count": 48,
   "outputs": [
    {
     "name": "stdout",
     "output_type": "stream",
     "text": [
      "+-------------------+---+\n",
      "|               name|age|\n",
      "+-------------------+---+\n",
      "|       Janet Gaynor| 22|\n",
      "|      Mary Pickford| 37|\n",
      "|      Norma Shearer| 28|\n",
      "|     Marie Dressler| 63|\n",
      "|        Helen Hayes| 32|\n",
      "|  Katharine Hepburn| 26|\n",
      "|  Claudette Colbert| 31|\n",
      "|        Bette Davis| 27|\n",
      "|       Luise Rainer| 26|\n",
      "|       Luise Rainer| 27|\n",
      "|        Bette Davis| 30|\n",
      "|       Vivien Leigh| 26|\n",
      "|      Ginger Rogers| 29|\n",
      "|      Joan Fontaine| 24|\n",
      "|       Greer Garson| 38|\n",
      "|     Jennifer Jones| 24|\n",
      "|     Ingrid Bergman| 29|\n",
      "|      Joan Crawford| 33|\n",
      "|Olivia de Havilland| 30|\n",
      "|      Loretta Young| 34|\n",
      "+-------------------+---+\n",
      "only showing top 20 rows\n",
      "\n"
     ]
    }
   ],
   "source": [
    "actors_df.count()"
   ],
   "metadata": {
    "collapsed": false
   }
  },
  {
   "cell_type": "code",
   "execution_count": 5,
   "outputs": [
    {
     "name": "stdout",
     "output_type": "stream",
     "text": [
      "+-----------------+----------+\n",
      "|             name|name_count|\n",
      "+-----------------+----------+\n",
      "|       Emma Stone|         1|\n",
      "|Denzel Washington|         1|\n",
      "|  Natalie Portman|         1|\n",
      "|     Helen Mirren|         1|\n",
      "|     Jeff Bridges|         1|\n",
      "|      Halle Berry|         1|\n",
      "|  Roberto Benigni|         1|\n",
      "|     Holly Hunter|         1|\n",
      "|      Kathy Bates|         1|\n",
      "|       Jamie Foxx|         1|\n",
      "|        Al Pacino|         1|\n",
      "|Jennifer Lawrence|         1|\n",
      "|    Olivia Colman|         1|\n",
      "|    Nicole Kidman|         1|\n",
      "|    Jean Dujardin|         1|\n",
      "|   Cate Blanchett|         1|\n",
      "|     Jeremy Irons|         1|\n",
      "|      Brie Larson|         1|\n",
      "|   Susan Sarandon|         1|\n",
      "|       Rami Malek|         1|\n",
      "+-----------------+----------+\n",
      "only showing top 20 rows\n",
      "\n"
     ]
    }
   ],
   "source": [
    "# \"having\" expample\n",
    "actors_df.where(\"oscar_yr >= 1990\")\\\n",
    "    .groupBy('name').agg(f.count('name').alias('name_count'))\\\n",
    "    .where('name_count == 1').show()"
   ],
   "metadata": {
    "collapsed": false
   }
  },
  {
   "cell_type": "code",
   "execution_count": null,
   "outputs": [],
   "source": [],
   "metadata": {
    "collapsed": false
   }
  }
 ],
 "metadata": {
  "kernelspec": {
   "display_name": "Python 3",
   "language": "python",
   "name": "python3"
  },
  "language_info": {
   "codemirror_mode": {
    "name": "ipython",
    "version": 2
   },
   "file_extension": ".py",
   "mimetype": "text/x-python",
   "name": "python",
   "nbconvert_exporter": "python",
   "pygments_lexer": "ipython2",
   "version": "2.7.6"
  }
 },
 "nbformat": 4,
 "nbformat_minor": 0
}
