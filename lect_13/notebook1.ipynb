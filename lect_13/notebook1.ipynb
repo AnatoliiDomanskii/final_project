{
 "cells": [
  {
   "cell_type": "markdown",
   "source": [
    "# Spark SQL API example"
   ],
   "metadata": {
    "collapsed": false
   }
  },
  {
   "cell_type": "code",
   "execution_count": null,
   "outputs": [],
   "source": [
    "from pyspark.sql import SparkSession"
   ],
   "metadata": {
    "collapsed": false
   }
  },
  {
   "cell_type": "code",
   "execution_count": 2,
   "outputs": [
    {
     "name": "stderr",
     "output_type": "stream",
     "text": [
      "Setting default log level to \"WARN\".\n",
      "To adjust logging level use sc.setLogLevel(newLevel). For SparkR, use setLogLevel(newLevel).\n"
     ]
    },
    {
     "name": "stdout",
     "output_type": "stream",
     "text": [
      "22/10/13 19:13:07 WARN NativeCodeLoader: Unable to load native-hadoop library for your platform... using builtin-java classes where applicable\n"
     ]
    }
   ],
   "source": [
    "spark = SparkSession.builder.appName('notebook1_session').getOrCreate()"
   ],
   "metadata": {
    "collapsed": false
   }
  },
  {
   "cell_type": "markdown",
   "source": [
    "## Example 1"
   ],
   "metadata": {
    "collapsed": false
   }
  },
  {
   "cell_type": "code",
   "execution_count": 3,
   "outputs": [],
   "source": [
    "df = spark.read.csv('./data/oscars.csv', inferSchema=True, header=True)"
   ],
   "metadata": {
    "collapsed": false
   }
  },
  {
   "cell_type": "code",
   "execution_count": 4,
   "outputs": [],
   "source": [
    "df.createOrReplaceTempView(\"oscars_view\")"
   ],
   "metadata": {
    "collapsed": false
   }
  },
  {
   "cell_type": "code",
   "execution_count": 7,
   "outputs": [
    {
     "name": "stdout",
     "output_type": "stream",
     "text": [
      "+-------------+--------------------+--------+\n",
      "|         name|               movie|oscar_yr|\n",
      "+-------------+--------------------+--------+\n",
      "| Janet Gaynor|          7th Heaven|    1929|\n",
      "|Emil Jannings|The Way of All Fl...|    1929|\n",
      "|Mary Pickford|            Coquette|    1930|\n",
      "|Warner Baxter|      In Old Arizona|    1930|\n",
      "|Norma Shearer|        The Divorcee|    1931|\n",
      "+-------------+--------------------+--------+\n",
      "\n"
     ]
    }
   ],
   "source": [
    "spark.sql(\"\"\"\n",
    "select\n",
    "    name,\n",
    "    movie,\n",
    "    oscar_yr\n",
    "from oscars_view\n",
    "order by oscar_yr\n",
    "limit 5;\n",
    "\"\"\").show()"
   ],
   "metadata": {
    "collapsed": false
   }
  },
  {
   "cell_type": "markdown",
   "source": [],
   "metadata": {
    "collapsed": false
   }
  },
  {
   "cell_type": "markdown",
   "source": [
    "## Example 2"
   ],
   "metadata": {
    "collapsed": false
   }
  },
  {
   "cell_type": "code",
   "execution_count": 11,
   "outputs": [
    {
     "name": "stdout",
     "output_type": "stream",
     "text": [
      "+--------+--------+------------+--------------+------------+---+------------+----------+--------+-------+-------+\n",
      "|     _c0|     _c1|         _c2|           _c3|         _c4|_c5|         _c6|       _c7|     _c8|    _c9|   _c10|\n",
      "+--------+--------+------------+--------------+------------+---+------------+----------+--------+-------+-------+\n",
      "|oscar_no|oscar_yr|       award|          name|       movie|age|    birth_pl|birth_date|birth_mo|birth_d|birth_y|\n",
      "|       1|    1929|Best actress|  Janet Gaynor|  7th Heaven| 22|Pennsylvania|1906-10-06|      10|      6|   1906|\n",
      "|       2|    1930|Best actress| Mary Pickford|    Coquette| 37|      Canada|1892-04-08|       4|      8|   1892|\n",
      "|       3|    1931|Best actress| Norma Shearer|The Divorcee| 28|      Canada|1902-08-10|       8|     10|   1902|\n",
      "|       4|    1932|Best actress|Marie Dressler|Min and Bill| 63|      Canada|1868-11-09|      11|      9|   1868|\n",
      "+--------+--------+------------+--------------+------------+---+------------+----------+--------+-------+-------+\n",
      "\n"
     ]
    }
   ],
   "source": [
    "spark.sql(\"\"\"\n",
    "select *\n",
    "from csv.`./data/oscars.csv`\n",
    "limit 5\n",
    "\"\"\").show()"
   ],
   "metadata": {
    "collapsed": false
   }
  },
  {
   "cell_type": "code",
   "execution_count": null,
   "outputs": [],
   "source": [
    "f"
   ],
   "metadata": {
    "collapsed": false
   }
  }
 ],
 "metadata": {
  "kernelspec": {
   "display_name": "Python 3",
   "language": "python",
   "name": "python3"
  },
  "language_info": {
   "codemirror_mode": {
    "name": "ipython",
    "version": 2
   },
   "file_extension": ".py",
   "mimetype": "text/x-python",
   "name": "python",
   "nbconvert_exporter": "python",
   "pygments_lexer": "ipython2",
   "version": "2.7.6"
  }
 },
 "nbformat": 4,
 "nbformat_minor": 0
}
